{
 "cells": [
  {
   "cell_type": "code",
   "execution_count": 48,
   "id": "8513f393",
   "metadata": {},
   "outputs": [
    {
     "name": "stdout",
     "output_type": "stream",
     "text": [
      "[[ 1.    2.    3.    4.  ]\n",
      " [12.2   2.3   4.3   2.3 ]\n",
      " [ 6.6   3.4   2.4   3.15]]\n"
     ]
    }
   ],
   "source": [
    "import pandas as pd\n",
    "import numpy as np\n",
    "\n",
    "df = pd.DataFrame([[1.0, 2.0, 3.0, 4.0],\n",
    "                   [12.2, 2.3, 4.3, 2.3],\n",
    "                   [np.nan, 3.4, 2.4, np.nan]])\n",
    "df.columns = ['A', 'B', 'C', 'D']\n",
    "\n",
    "from sklearn.impute import SimpleImputer\n",
    "\n",
    "imputer = SimpleImputer(missing_values=np.nan, strategy='mean')  # Corrected spelling of np.nan\n",
    "imputed_data = imputer.fit_transform(df.values)\n",
    "print(imputed_data)"
   ]
  },
  {
   "cell_type": "code",
   "execution_count": 7,
   "id": "613b2c82",
   "metadata": {},
   "outputs": [],
   "source": [
    "#mean value shoots for outliers so replacing with avg is wrong"
   ]
  },
  {
   "cell_type": "code",
   "execution_count": 49,
   "id": "e717a0ed",
   "metadata": {},
   "outputs": [
    {
     "name": "stdout",
     "output_type": "stream",
     "text": [
      "   color size  price classLabel\n",
      "0  green    M   10.1     class1\n",
      "1    red    L   13.5     class2\n",
      "2   blue   XL   15.3     class1\n"
     ]
    }
   ],
   "source": [
    "import pandas as pd\n",
    "\n",
    "df = pd.DataFrame([\n",
    "    ['green', 'M', 10.1, 'class1'],\n",
    "    ['red', 'L', 13.5, 'class2'],\n",
    "    ['blue', 'XL', 15.3, 'class1']\n",
    "])\n",
    "df.columns = ['color', 'size', 'price', 'classLabel']\n",
    "print(df)\n"
   ]
  },
  {
   "cell_type": "code",
   "execution_count": 50,
   "id": "0f430717",
   "metadata": {},
   "outputs": [
    {
     "name": "stdout",
     "output_type": "stream",
     "text": [
      "   color  size  price classLabel\n",
      "0  green     1   10.1     class1\n",
      "1    red     2   13.5     class2\n",
      "2   blue     3   15.3     class1\n"
     ]
    }
   ],
   "source": [
    "size_mapping={\n",
    "    'XL':3,\n",
    "    'L':2,\n",
    "    'M':1\n",
    "}\n",
    "#Using a dictionary to map the size and corresponding values acc to size\n",
    "df['size']=df['size'].map(size_mapping)\n",
    "print(df)"
   ]
  },
  {
   "cell_type": "code",
   "execution_count": 51,
   "id": "43e84f87",
   "metadata": {},
   "outputs": [
    {
     "name": "stdout",
     "output_type": "stream",
     "text": [
      "   color  size  price classLabel\n",
      "0      1     1   10.1     class1\n",
      "1      2     2   13.5     class2\n",
      "2      3     3   15.3     class1\n"
     ]
    }
   ],
   "source": [
    "#nominal feature- there is no specific order\n",
    "#ordinal features- there is specific order (ascending etc).\n",
    "colors={\n",
    "    'green':1,\n",
    "    'red':2,\n",
    "    'blue':3\n",
    "}\n",
    "df['color']=df['color'].map(colors)\n",
    "print(df)"
   ]
  },
  {
   "cell_type": "code",
   "execution_count": 53,
   "id": "bb5ab94f",
   "metadata": {},
   "outputs": [
    {
     "name": "stdout",
     "output_type": "stream",
     "text": [
      "   color_1  color_2  color_3\n",
      "0      1.0      0.0      0.0\n",
      "1      0.0      1.0      0.0\n",
      "2      0.0      0.0      1.0\n"
     ]
    }
   ],
   "source": [
    "#use one hot encoding to treat nominal features equally\n",
    "from sklearn.preprocessing import OneHotEncoder\n",
    "ohe =(OneHotEncoder(sparse_output=False)).set_output(transform='pandas')\n",
    "F_=ohe.fit_transform(df[['color']])\n",
    "print(F_)"
   ]
  },
  {
   "cell_type": "code",
   "execution_count": 57,
   "id": "319f872c",
   "metadata": {},
   "outputs": [
    {
     "name": "stdout",
     "output_type": "stream",
     "text": [
      "   color  size  price classLabel  color_1  color_2  color_3\n",
      "0      1     1   10.1     class1      1.0      0.0      0.0\n",
      "1      2     2   13.5     class2      0.0      1.0      0.0\n",
      "2      3     3   15.3     class1      0.0      0.0      1.0\n"
     ]
    }
   ],
   "source": [
    "YY_ = pd.concat([df, F_], axis=1).dropna(subset=['color'])\n",
    "print(YY_)\n"
   ]
  },
  {
   "cell_type": "code",
   "execution_count": null,
   "id": "275fa836",
   "metadata": {},
   "outputs": [],
   "source": []
  }
 ],
 "metadata": {
  "kernelspec": {
   "display_name": "Python 3 (ipykernel)",
   "language": "python",
   "name": "python3"
  },
  "language_info": {
   "codemirror_mode": {
    "name": "ipython",
    "version": 3
   },
   "file_extension": ".py",
   "mimetype": "text/x-python",
   "name": "python",
   "nbconvert_exporter": "python",
   "pygments_lexer": "ipython3",
   "version": "3.11.5"
  }
 },
 "nbformat": 4,
 "nbformat_minor": 5
}
