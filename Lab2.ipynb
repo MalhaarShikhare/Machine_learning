{
 "cells": [
  {
   "cell_type": "code",
   "execution_count": 3,
   "id": "8513f393",
   "metadata": {},
   "outputs": [
    {
     "ename": "ModuleNotFoundError",
     "evalue": "No module named 'pandas'",
     "output_type": "error",
     "traceback": [
      "\u001b[1;31m---------------------------------------------------------------------------\u001b[0m",
      "\u001b[1;31mModuleNotFoundError\u001b[0m                       Traceback (most recent call last)",
      "Cell \u001b[1;32mIn[3], line 1\u001b[0m\n\u001b[1;32m----> 1\u001b[0m \u001b[38;5;28;01mimport\u001b[39;00m \u001b[38;5;21;01mpandas\u001b[39;00m \u001b[38;5;28;01mas\u001b[39;00m \u001b[38;5;21;01mpd\u001b[39;00m\n\u001b[0;32m      2\u001b[0m \u001b[38;5;28;01mimport\u001b[39;00m \u001b[38;5;21;01mnumpy\u001b[39;00m \u001b[38;5;28;01mas\u001b[39;00m \u001b[38;5;21;01mnp\u001b[39;00m\n\u001b[0;32m      4\u001b[0m df \u001b[38;5;241m=\u001b[39m pd\u001b[38;5;241m.\u001b[39mDataFrame([[\u001b[38;5;241m1.0\u001b[39m, \u001b[38;5;241m2.0\u001b[39m, \u001b[38;5;241m3.0\u001b[39m, \u001b[38;5;241m4.0\u001b[39m],\n\u001b[0;32m      5\u001b[0m                    [\u001b[38;5;241m12.2\u001b[39m, \u001b[38;5;241m2.3\u001b[39m, \u001b[38;5;241m4.3\u001b[39m, \u001b[38;5;241m2.3\u001b[39m],\n\u001b[0;32m      6\u001b[0m                    [np\u001b[38;5;241m.\u001b[39mnan, \u001b[38;5;241m3.4\u001b[39m, \u001b[38;5;241m2.4\u001b[39m, np\u001b[38;5;241m.\u001b[39mnan]])\n",
      "\u001b[1;31mModuleNotFoundError\u001b[0m: No module named 'pandas'"
     ]
    }
   ],
   "source": [
    "import pandas as pd\n",
    "import numpy as np\n",
    "\n",
    "df = pd.DataFrame([[1.0, 2.0, 3.0, 4.0],\n",
    "                   [12.2, 2.3, 4.3, 2.3],\n",
    "                   [np.nan, 3.4, 2.4, np.nan]])\n",
    "df.columns = ['A', 'B', 'C', 'D']\n",
    "print(df)\n",
    "\n",
    "print(df.isnull().sum())\n",
    "\n",
    "#Eliminate missing values\n",
    "\n",
    "#Axis 0 -> Rows\n",
    "#Axis 1 -> Col\n",
    "\n",
    "df_1 = df.dropna(axis=0)\n",
    "print(df_1)\n",
    "\n",
    "df_2 = df.dropna(axis=1)\n",
    "print(df_2)\n",
    "\n",
    "#Change NaN to avg of that Col\n",
    "\n",
    "from sklearn.impute import SimpleImputer\n",
    "\n",
    "imputer = SimpleImputer(missing_values=np.nan, strategy='mean')  # Corrected spelling of np.nan\n",
    "imputed_data = imputer.fit_transform(df.values)\n",
    "print(imputed_data)"
   ]
  },
  {
   "cell_type": "code",
   "execution_count": 7,
   "id": "613b2c82",
   "metadata": {},
   "outputs": [],
   "source": [
    "#mean value shoots for outliers so replacing with avg is wrong"
   ]
  },
  {
   "cell_type": "code",
   "execution_count": 49,
   "id": "e717a0ed",
   "metadata": {},
   "outputs": [
    {
     "name": "stdout",
     "output_type": "stream",
     "text": [
      "   color size  price classLabel\n",
      "0  green    M   10.1     class1\n",
      "1    red    L   13.5     class2\n",
      "2   blue   XL   15.3     class1\n"
     ]
    }
   ],
   "source": [
    "import pandas as pd\n",
    "\n",
    "df = pd.DataFrame([\n",
    "    ['green', 'M', 10.1, 'class1'],\n",
    "    ['red', 'L', 13.5, 'class2'],\n",
    "    ['blue', 'XL', 15.3, 'class1']\n",
    "])\n",
    "df.columns = ['color', 'size', 'price', 'classLabel']\n",
    "print(df)\n"
   ]
  },
  {
   "cell_type": "code",
   "execution_count": 50,
   "id": "0f430717",
   "metadata": {},
   "outputs": [
    {
     "name": "stdout",
     "output_type": "stream",
     "text": [
      "   color  size  price classLabel\n",
      "0  green     1   10.1     class1\n",
      "1    red     2   13.5     class2\n",
      "2   blue     3   15.3     class1\n"
     ]
    }
   ],
   "source": [
    "size_mapping={\n",
    "    'XL':3,\n",
    "    'L':2,\n",
    "    'M':1\n",
    "}\n",
    "#Using a dictionary to map the size and corresponding values acc to size\n",
    "df['size']=df['size'].map(size_mapping)\n",
    "print(df)"
   ]
  },
  {
   "cell_type": "code",
   "execution_count": 51,
   "id": "43e84f87",
   "metadata": {},
   "outputs": [
    {
     "name": "stdout",
     "output_type": "stream",
     "text": [
      "   color  size  price classLabel\n",
      "0      1     1   10.1     class1\n",
      "1      2     2   13.5     class2\n",
      "2      3     3   15.3     class1\n"
     ]
    }
   ],
   "source": [
    "#Color -> Nominal Feature, size -> Ordinal Feature\n",
    "#nominal feature- there is no specific order\n",
    "#ordinal features- there is specific order (ascending etc).\n",
    "colors={\n",
    "    'green':1,\n",
    "    'red':2,\n",
    "    'blue':3\n",
    "}\n",
    "df['color']=df['color'].map(colors)\n",
    "print(df)"
   ]
  },
  {
   "cell_type": "code",
   "execution_count": 53,
   "id": "bb5ab94f",
   "metadata": {},
   "outputs": [
    {
     "name": "stdout",
     "output_type": "stream",
     "text": [
      "   color_1  color_2  color_3\n",
      "0      1.0      0.0      0.0\n",
      "1      0.0      1.0      0.0\n",
      "2      0.0      0.0      1.0\n"
     ]
    }
   ],
   "source": [
    "#use one hot encoding to treat nominal features equally\n",
    "from sklearn.preprocessing import OneHotEncoder\n",
    "ohe =(OneHotEncoder(sparse_output=False)).set_output(transform='pandas')\n",
    "F_=ohe.fit_transform(df[['color']])\n",
    "print(F_)"
   ]
  },
  {
   "cell_type": "code",
   "execution_count": 57,
   "id": "319f872c",
   "metadata": {},
   "outputs": [
    {
     "name": "stdout",
     "output_type": "stream",
     "text": [
      "   color  size  price classLabel  color_1  color_2  color_3\n",
      "0      1     1   10.1     class1      1.0      0.0      0.0\n",
      "1      2     2   13.5     class2      0.0      1.0      0.0\n",
      "2      3     3   15.3     class1      0.0      0.0      1.0\n"
     ]
    }
   ],
   "source": [
    "YY_ = pd.concat([df, F_], axis=1).dropna(subset=['color'])\n",
    "print(YY_)\n"
   ]
  },
  {
   "cell_type": "code",
   "execution_count": null,
   "id": "275fa836",
   "metadata": {},
   "outputs": [],
   "source": []
  }
 ],
 "metadata": {
  "kernelspec": {
   "display_name": "Python 3 (ipykernel)",
   "language": "python",
   "name": "python3"
  },
  "language_info": {
   "codemirror_mode": {
    "name": "ipython",
    "version": 3
   },
   "file_extension": ".py",
   "mimetype": "text/x-python",
   "name": "python",
   "nbconvert_exporter": "python",
   "pygments_lexer": "ipython3",
   "version": "3.12.1"
  }
 },
 "nbformat": 4,
 "nbformat_minor": 5
}
